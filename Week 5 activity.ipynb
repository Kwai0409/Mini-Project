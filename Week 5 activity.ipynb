{
 "cells": [
  {
   "cell_type": "markdown",
   "id": "d0577976",
   "metadata": {},
   "source": [
    "# Week 5 activity\n",
    "- Name: Gan Kian Yu\n",
    "- StudentID: 19ACB01693\n",
    "- Tutorial Group: T7"
   ]
  },
  {
   "cell_type": "code",
   "execution_count": 1,
   "id": "8b567dac",
   "metadata": {},
   "outputs": [
    {
     "data": {
      "text/plain": [
       "True"
      ]
     },
     "execution_count": 1,
     "metadata": {},
     "output_type": "execute_result"
    }
   ],
   "source": [
    "#Setup\n",
    "import sys\n",
    "assert sys.version_info >= (3,7)\n",
    "import cv2 as cv\n",
    "import numpy as np\n",
    "import matplotlib.pyplot as plt\n",
    "\n",
    "if not cv.useOptimized():\n",
    "    cv.setUseOptimized(True)\n",
    "cv.useOptimized()"
   ]
  },
  {
   "cell_type": "markdown",
   "id": "56c04e56",
   "metadata": {},
   "source": [
    "Question 1:\n",
    "Convert the code chunk found under section Divide an image into smaller patches using cropping into a function with the following signature: crop_grid(img, num_horizontal_grid, num_vertical_grid, line_color)\n",
    "- img is the source image\n",
    "- num_horizontal_grid and num_vertical_grid are the number of patches along x and y axes.\n",
    "- line_color is the color of the grid line.\n",
    "- The output of the function should be image with grids"
   ]
  },
  {
   "cell_type": "code",
   "execution_count": 2,
   "id": "ab665d91",
   "metadata": {},
   "outputs": [],
   "source": [
    "def crop_grid(img, num_horizontal_grid, num_vertical_grid, line_color):\n",
    "    '''This function is to divide an image into smaller patches'''\n",
    "    img_copy = img.copy()\n",
    "    height, width = img.shape[:2]\n",
    "    M, N = int(height/num_horizontal_grid), int(width/num_vertical_grid)\n",
    "    for y in range(0, height, M):\n",
    "        for x in range(0, width, N):\n",
    "            #bottom right = (x1, y1)\n",
    "            y1 = y + M    \n",
    "            x1 = x + N\n",
    "            \n",
    "            if x1 >= width:\n",
    "                x1 = width - 1\n",
    "            if y1 >= height:\n",
    "                y1 = height - 1\n",
    "                \n",
    "            cv.rectangle(img_copy, (x, y), (x1, y1), line_color, 1)\n",
    "    cv.imshow('patched image', img_copy)\n",
    "    cv.waitKey(0)\n",
    "    cv.destroyAllWindows()"
   ]
  },
  {
   "cell_type": "code",
   "execution_count": 4,
   "id": "50124c34",
   "metadata": {},
   "outputs": [],
   "source": [
    "#test case\n",
    "img = cv.imread('dog.jfif')\n",
    "crop_grid(img, 3, 4, (0,255,0))"
   ]
  },
  {
   "cell_type": "markdown",
   "id": "109bf694",
   "metadata": {},
   "source": [
    "Question 2: Display image sequences of smooth transition of two images with different values of α. Refer to code in section \"Image blending\". Use \"lena.jfif\" and \"coins.jfif\" as the base images."
   ]
  },
  {
   "cell_type": "code",
   "execution_count": 6,
   "id": "03bea2e2",
   "metadata": {},
   "outputs": [],
   "source": [
    "img1 = cv.imread('lena.jfif')\n",
    "img2 = cv.imread('coins.jfif')\n",
    "\n",
    "# Resize img2\n",
    "new_shape = img1.shape[:2]\n",
    "img2 = cv.resize(img2, new_shape)\n",
    "\n",
    "dst = cv.addWeighted(img1, 0.75, img2, 0.25, 0)\n",
    "\n",
    "cv.imshow('image1', img1)\n",
    "cv.imshow('reshape_image2', img2)\n",
    "cv.imshow('blend_image', dst)\n",
    "cv.waitKey(0)\n",
    "cv.destroyAllWindows()"
   ]
  },
  {
   "cell_type": "markdown",
   "id": "b789216e",
   "metadata": {},
   "source": [
    "Question 3: Rotate image by 45 degrees without cropping the sides of the image. (Hint: There are 2 strategies to tackle these problems). Use \"lena.jfif\" as the input image.\n",
    "- Use external libraries imutils.\n",
    "- Modify the transformation matrix."
   ]
  },
  {
   "cell_type": "code",
   "execution_count": 9,
   "id": "008f5a62",
   "metadata": {},
   "outputs": [],
   "source": [
    "import imutils\n",
    "\n",
    "img = cv.imread('lena.jfif')\n",
    "rotate_img1 = imutils.rotate_bound(img, 45)\n",
    "cv.imshow('rotate_img1', rotate_img1)\n",
    "cv.waitKey(0)\n",
    "cv.destroyAllWindows()"
   ]
  },
  {
   "cell_type": "markdown",
   "id": "f8b68dea",
   "metadata": {},
   "source": [
    "Question 4:\n",
    "Use the images with titles: \"flower.jfif\" and \"native-bee.png\". I want to put flower above an image. If I add two images, it will change color. If I blend it, I get a transparent effect. But I want it to be opaque. If it was a rectangular region, we could use the ROI as we did in the previous section. But flower is not a rectangular region. This is where bitwise operations, like AND, OR, NOT and XOR really come in handy. The associated functions are cv.bitwise_and(), cv.bitwise_or() and cv.bitwise_not(). You need to use cv.threshold function to segment the flower. Please refer to online documentation for more info. The result should resemble the following:"
   ]
  },
  {
   "cell_type": "code",
   "execution_count": 94,
   "id": "f212db27",
   "metadata": {},
   "outputs": [],
   "source": [
    "\"\"\"\n",
    "cv.THRESH_BINARY, image pixel value > threshold value: 255 otherwise 0\n",
    "cv.THRESH_BINARY_INV, (inverted)\n",
    "cv.THRESH_TRUNC, image pixel value > threshold value: become threshold value\n",
    "cv.THRESH_TOZERO, image pixel value > threshold value: remain original value, else: black(0)\n",
    "\"\"\"\n",
    "\n",
    "img1 = cv.imread('flower.jfif')\n",
    "img2 = cv.imread('native-bee.png')\n",
    "\n",
    "heightFlower, widthFlower = img1.shape[:2]\n",
    "heightBee, widthBee = img2.shape[:2]\n",
    "x, y = 0, 0 #top left point of bee image\n",
    "\n",
    "stackPartBee = img2[x:heightFlower, y:widthFlower]\n",
    "_, dst = cv.threshold(img1, 80, 255, cv.THRESH_TOZERO)\n",
    "dst = np.where(dst > 0, dst, stackPartBee)\n",
    "img2[x:heightFlower, y:widthFlower] = dst\n",
    "\n",
    "cv.imshow('img2', img2)\n",
    "cv.waitKey(0)\n",
    "cv.destroyAllWindows()"
   ]
  },
  {
   "cell_type": "code",
   "execution_count": null,
   "id": "e0bdfb87",
   "metadata": {},
   "outputs": [],
   "source": []
  },
  {
   "cell_type": "code",
   "execution_count": null,
   "id": "a282585e",
   "metadata": {},
   "outputs": [],
   "source": []
  }
 ],
 "metadata": {
  "kernelspec": {
   "display_name": "Python 3 (ipykernel)",
   "language": "python",
   "name": "python3"
  },
  "language_info": {
   "codemirror_mode": {
    "name": "ipython",
    "version": 3
   },
   "file_extension": ".py",
   "mimetype": "text/x-python",
   "name": "python",
   "nbconvert_exporter": "python",
   "pygments_lexer": "ipython3",
   "version": "3.9.12"
  }
 },
 "nbformat": 4,
 "nbformat_minor": 5
}
