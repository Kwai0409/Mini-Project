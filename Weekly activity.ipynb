{
 "cells": [
  {
   "cell_type": "markdown",
   "id": "61568c99",
   "metadata": {},
   "source": [
    "# Weekly activity"
   ]
  },
  {
   "cell_type": "markdown",
   "id": "a8928061",
   "metadata": {},
   "source": [
    "- StudentName: Gan Kian Yu\n",
    "- Student ID: 1901693\n",
    "- Tutorial group: T7"
   ]
  },
  {
   "cell_type": "code",
   "execution_count": 1,
   "id": "bc5f7e78",
   "metadata": {},
   "outputs": [
    {
     "data": {
      "text/plain": [
       "True"
      ]
     },
     "execution_count": 1,
     "metadata": {},
     "output_type": "execute_result"
    }
   ],
   "source": [
    "#setup\n",
    "import sys\n",
    "# Python 3.7 is required\n",
    "assert sys.version_info >= (3,7)\n",
    "\n",
    "import cv2 as cv\n",
    "import numpy as np\n",
    "\n",
    "# For reproducibility,\n",
    "np.random.seed(99)\n",
    "\n",
    "# Make sure that optimization is enabled\n",
    "if not cv.useOptimized():\n",
    "    cv.setUseOptimized(True)\n",
    "\n",
    "cv.useOptimized()"
   ]
  },
  {
   "cell_type": "markdown",
   "id": "3ecec4a9",
   "metadata": {},
   "source": [
    "## Question 1. Suggest two ways and write codes to display two images simultaneously. You can use any image snapped from your handphone, downloaded from internet or images from week 4 materials on MS teams. The two images are a color image and its corresponding grayscale image."
   ]
  },
  {
   "cell_type": "code",
   "execution_count": 59,
   "id": "4209897f",
   "metadata": {},
   "outputs": [],
   "source": [
    "# way 1\n",
    "img = cv.imread('dog.jfif')    # default bgr \n",
    "img_grayscale = cv.imread('dog.jfif', 0)    # grayscale\n",
    "\n",
    "cv.imshow('original',img)\n",
    "cv.imshow('gray', img_grayscale)\n",
    "cv.waitKey(0)\n",
    "cv.destroyAllWindows()"
   ]
  },
  {
   "cell_type": "code",
   "execution_count": 60,
   "id": "bea91555",
   "metadata": {},
   "outputs": [],
   "source": [
    "#way 2\n",
    "img = cv.imread('dog.jfif')    # default bgr \n",
    "img_grayscale = cv.imread('dog.jfif', 0)    # grayscale\n",
    "img_grayscale = cv.cvtColor(img_grayscale, cv.COLOR_GRAY2BGR)\n",
    "\n",
    "img_combine = np.concatenate((img, img_grayscale)) #or np.hstack, np.vstack\n",
    "cv.imshow('2 image', img_combine)\n",
    "cv.waitKey(0)\n",
    "cv.destroyAllWindows()"
   ]
  },
  {
   "cell_type": "markdown",
   "id": "b0a98094",
   "metadata": {},
   "source": [
    "## Question 2: Write codes that performs the following:\n",
    "- Load the video “img_pexels.mp4” into the Python environment, resize it and display the videos with smaller frames (The frames can be of any size, as long as it is smaller). You can specify an arbitrary frame rate.\n",
    "- Save it as a separate files: “smaller_img_pexels.avi” or \"smaller_img_pexels.mp4\""
   ]
  },
  {
   "cell_type": "code",
   "execution_count": 44,
   "id": "6a203154",
   "metadata": {},
   "outputs": [],
   "source": [
    "# Create a VideoCapture object\n",
    "cap = cv.VideoCapture('img_pexels.mp4')\n",
    "\n",
    "# Check if the object has been created successfully\n",
    "if not cap.isOpened():\n",
    "    print(\"Unable to create video\")\n",
    "\n",
    "frame_width = int(cap.get(3)*0.3)\n",
    "frame_height = int(cap.get(4)*0.3)\n",
    "writer = cv.VideoWriter('smaller_img_pexels.avi', cv.VideoWriter_fourcc('M', 'J', 'P', 'G'), 32, (frame_width,frame_height))\n",
    "    \n",
    "# Read until the video is completed.\n",
    "while cap.isOpened():\n",
    "    ret, frame = cap.read()\n",
    "    \n",
    "    # if frame is read then ret is True\n",
    "    if not ret:\n",
    "        print(\"Can't receive frame.\")\n",
    "        break\n",
    "        \n",
    "    #resize frame\n",
    "    frame = cv.resize(frame, None, fx = 0.3, fy = 0.3, interpolation = cv.INTER_LINEAR)\n",
    "    \n",
    "    #save video\n",
    "    writer.write(frame)\n",
    "    \n",
    "    cv.imshow('frame', frame)\n",
    "    # Press Esc key to exit (27 is ASCII code for Esc). cv.waitKey() returns 32 bit integer values. You can find the ASCII table\n",
    "    # on this URL: https://theasciicode.com.ar/\n",
    "    if cv.waitKey(1) & 0xFF == 27:\n",
    "        break\n",
    "\n",
    "# destroy the constructor\n",
    "cap.release()\n",
    "cv.destroyAllWindows()"
   ]
  },
  {
   "cell_type": "markdown",
   "id": "40079ea8",
   "metadata": {},
   "source": [
    "## Question 3: Create a random noise color and grayscale image. You can set a custom width and height. (Hint: use Numpy functions like np.array and np.reshape.)"
   ]
  },
  {
   "cell_type": "code",
   "execution_count": 61,
   "id": "74b58e35",
   "metadata": {},
   "outputs": [],
   "source": [
    "img = np.random.randint(0,255,(256,256), dtype = np.uint8)\n",
    "img = cv.cvtColor(img, cv.COLOR_GRAY2BGR)\n",
    "\n",
    "cv.imshow(\"image\", img)\n",
    "cv.waitKey(0)\n",
    "cv.destroyAllWindows()"
   ]
  },
  {
   "cell_type": "code",
   "execution_count": null,
   "id": "f0e497b6",
   "metadata": {},
   "outputs": [],
   "source": []
  }
 ],
 "metadata": {
  "kernelspec": {
   "display_name": "Python 3 (ipykernel)",
   "language": "python",
   "name": "python3"
  },
  "language_info": {
   "codemirror_mode": {
    "name": "ipython",
    "version": 3
   },
   "file_extension": ".py",
   "mimetype": "text/x-python",
   "name": "python",
   "nbconvert_exporter": "python",
   "pygments_lexer": "ipython3",
   "version": "3.9.12"
  }
 },
 "nbformat": 4,
 "nbformat_minor": 5
}
