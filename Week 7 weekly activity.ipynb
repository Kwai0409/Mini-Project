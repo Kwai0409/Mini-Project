{
 "cells": [
  {
   "cell_type": "markdown",
   "id": "847dda3e",
   "metadata": {},
   "source": [
    "# Week 7 weekly activity"
   ]
  },
  {
   "cell_type": "code",
   "execution_count": 1,
   "id": "02e715d1",
   "metadata": {},
   "outputs": [],
   "source": [
    "import numpy as np\n",
    "import cv2 as cv\n",
    "import matplotlib.pyplot as plt"
   ]
  },
  {
   "cell_type": "markdown",
   "id": "497fc30f",
   "metadata": {},
   "source": [
    "### Question 1: Apply histogram equalization on a histogram equalized image. In other words, apply histogram equalization twice on an image. Is there any difference between the first and second output image? You are free to use any image."
   ]
  },
  {
   "cell_type": "code",
   "execution_count": 3,
   "id": "a3ab4b13",
   "metadata": {},
   "outputs": [],
   "source": [
    "img = cv.imread('dog1.jfif', 0)\n",
    "\n",
    "eq1 = cv.equalizeHist(img)\n",
    "eq2 = cv.equalizeHist(eq1)\n",
    "\n",
    "cv.imshow('result', np.hstack((img, eq1, eq2)))\n",
    "cv.waitKey(0)\n",
    "cv.destroyAllWindows()"
   ]
  },
  {
   "cell_type": "markdown",
   "id": "84c8b82f",
   "metadata": {},
   "source": [
    "There is no difference between first and second output image"
   ]
  },
  {
   "cell_type": "markdown",
   "id": "a307c28e",
   "metadata": {},
   "source": [
    "### Question 2: Load the image 'electronic.jfif'. Then,\n",
    "- Experiment with different kernel size. Which kernel size is the most appropriate?\n",
    "- Perform edge detection using Sobel operator (combined both x and y) with and without image smoothing (Gaussian blurring). Display the 2 images.\n",
    "- Try Laplacian of Gaussian"
   ]
  },
  {
   "cell_type": "code",
   "execution_count": 9,
   "id": "f1c75099",
   "metadata": {},
   "outputs": [],
   "source": [
    "img = cv.imread('electronic.jfif', 0)\n",
    "\n",
    "sobelx = cv.Sobel(img, cv.CV_64F, 1,0, ksize = 3)\n",
    "sobely = cv.Sobel(img, cv.CV_64F, 0,1, ksize = 3)\n",
    "\n",
    "grad_mag_L2 = cv.magnitude(sobelx,sobely)\n",
    "grad_mag_L2 = cv.convertScaleAbs(grad_mag_L2)\n",
    "\n",
    "cv.imshow(\"result\", np.hstack((img,grad_mag_L2)))\n",
    "cv.waitKey(0)\n",
    "cv.destroyAllWindows()"
   ]
  },
  {
   "cell_type": "code",
   "execution_count": 8,
   "id": "c1bf04b7",
   "metadata": {},
   "outputs": [],
   "source": [
    "img = cv.imread('electronic.jfif', 0)\n",
    "\n",
    "sobelx = cv.Sobel(img, cv.CV_64F, 1,0, ksize = 1)\n",
    "sobely = cv.Sobel(img, cv.CV_64F, 0,1, ksize = 1)\n",
    "\n",
    "grad_mag_L2 = cv.magnitude(sobelx,sobely)\n",
    "grad_mag_L2 = cv.convertScaleAbs(grad_mag_L2)\n",
    "\n",
    "cv.imshow(\"result\", np.hstack((img,grad_mag_L2)))\n",
    "cv.waitKey(0)\n",
    "cv.destroyAllWindows()"
   ]
  },
  {
   "cell_type": "markdown",
   "id": "cdae0437",
   "metadata": {},
   "source": [
    "Kernel size 1 most appropriate as there is less white line (noises) in the images compared to kernel size 3."
   ]
  },
  {
   "cell_type": "code",
   "execution_count": 10,
   "id": "8434417a",
   "metadata": {},
   "outputs": [],
   "source": [
    "blur = cv.GaussianBlur(img, (5,5), 0)\n",
    "\n",
    "sobelx = cv.Sobel(blur, cv.CV_64F, 1, 0, ksize = 1)\n",
    "sobely = cv.Sobel(blur, cv.CV_64F, 0, 1, ksize = 1)\n",
    "\n",
    "blur_grad_mag_L2 = cv.magnitude(sobelx,sobely)\n",
    "blur_grad_mag_L2 = cv.convertScaleAbs(blur_grad_mag_L2)\n",
    "\n",
    "cv.imshow(\"result\", np.hstack((grad_mag_L2,blur_grad_mag_L2)))\n",
    "cv.waitKey(0)\n",
    "cv.destroyAllWindows()"
   ]
  },
  {
   "cell_type": "code",
   "execution_count": 11,
   "id": "be78107f",
   "metadata": {},
   "outputs": [],
   "source": [
    "blur = cv.GaussianBlur(img, (5,5), 0)\n",
    "laplacian = cv.Laplacian(blur,cv.CV_64F, ksize =3)\n",
    "\n",
    "laplacian_8u = cv.convertScaleAbs(laplacian)\n",
    "\n",
    "cv.imshow(\"result\", np.hstack((grad_mag_L2, blur_grad_mag_L2, laplacian_8u)))\n",
    "cv.waitKey(0)\n",
    "cv.destroyAllWindows()"
   ]
  },
  {
   "cell_type": "markdown",
   "id": "85d6ac39",
   "metadata": {},
   "source": [
    "### Question 3: Experiment with different edge detectors: Sobel, Laplacian, Prewitt, Scharr derivatives and Canny operators (all with aperture size of 3) on image named 'pineapple.jfif'. Comment on the results."
   ]
  },
  {
   "cell_type": "code",
   "execution_count": 15,
   "id": "707ea5c2",
   "metadata": {},
   "outputs": [],
   "source": [
    "img = cv.imread('pineapple.jfif', 0)\n",
    "img_blur = cv.GaussianBlur(img, (5,5), 0)\n",
    "\n",
    "#Sobel\n",
    "sobelx = cv.Sobel(img_blur, cv.CV_64F, 1, 0, ksize = 3)\n",
    "sobely = cv.Sobel(img_blur, cv.CV_64F, 0, 1, ksize = 3)\n",
    "mag_L2 = cv.magnitude(sobelx,sobely)\n",
    "mag_L2 = cv.convertScaleAbs(mag_L2)\n",
    "\n",
    "#laplacian\n",
    "laplacian_blur = cv.Laplacian(img_blur, cv.CV_64F, ksize = 3)\n",
    "laplacian_blur = np.uint8(np.absolute(laplacian_blur))\n",
    "\n",
    "#Prewitt\n",
    "kernelx = np.array([[1,1,1], [0,0,0], [-1,-1,-1]])\n",
    "kernely = np.array([[-1,0,1], [-1,0,1], [-1,0,1]])\n",
    "img_prewittx = cv.filter2D(img_blur, -1, kernelx)\n",
    "img_prewitty = cv.filter2D(img_blur, -1, kernely)\n",
    "img_comb = (img_prewittx + img_prewitty)\n",
    "\n",
    "#Scharr Derivatives\n",
    "scharr_X = cv.Scharr(img_blur, cv.CV_64F, 1, 0) \n",
    "scharr_X_abs = np.uint8(np.absolute(scharr_X)) \n",
    "scharr_Y = cv.Scharr(img_blur, cv.CV_64F, 0, 1) \n",
    "scharr_Y_abs = np.uint8(np.absolute(scharr_Y)) \n",
    "XY_combined = cv.bitwise_or(scharr_Y_abs, scharr_X_abs) \n",
    "\n",
    "#Canny operators\n",
    "edges = cv.Canny(img_blur, 80, 160)\n",
    "\n",
    "cv.imshow(\"result\", np.hstack((mag_L2,laplacian_blur, img_comb, XY_combined, edges)))\n",
    "cv.waitKey(0)\n",
    "cv.destroyAllWindows()"
   ]
  },
  {
   "cell_type": "markdown",
   "id": "de0eb5da",
   "metadata": {},
   "source": [
    "- Sobel: The detected edge is spreaded out.\n",
    "- Laplacian: The detected edge is small\n",
    "- Prewitt: The detected edge is blurry and hardly to see the shape of the object.\n",
    "- Scharr Derivatives: The detected edge is complicated and cannot define the object.\n",
    "- Canny operators: The detected edge is simple and clean."
   ]
  },
  {
   "cell_type": "markdown",
   "id": "3cd6a3cc",
   "metadata": {},
   "source": [
    "### Question 4: Write a program to identify the white object (probably laptop) present in the image 'electronic.jfif'. Draw bounding boxes on the objects."
   ]
  },
  {
   "cell_type": "code",
   "execution_count": 27,
   "id": "c2a5d24e",
   "metadata": {},
   "outputs": [],
   "source": [
    "ori_img = cv.imread('electronic.jfif')\n",
    "img_gray = cv.cvtColor(ori_img, cv.COLOR_BGR2GRAY) \n",
    "\n",
    "img = cv.GaussianBlur(img_gray, (5,5), 0)\n",
    "ret, thresh = cv.threshold(img_gray, 180, 255, cv.THRESH_BINARY)\n",
    "\n",
    "contours, _ = cv.findContours(thresh, cv.RETR_TREE, cv.CHAIN_APPROX_SIMPLE)\n",
    "\n",
    "for i in contours:\n",
    "    area = cv.contourArea(i)\n",
    "    if area >= 6000:\n",
    "        cnt = i\n",
    "        x, y, w, h = cv.boundingRect(cnt)\n",
    "        cv.rectangle(ori_img, (x,y), (x+w, y+h), (0, 255, 0), 2)\n",
    "    else:\n",
    "        continue\n",
    "\n",
    "cv.imshow('result', ori_img)\n",
    "cv.waitKey(0)\n",
    "cv.destroyAllWindows()"
   ]
  },
  {
   "cell_type": "code",
   "execution_count": null,
   "id": "3104edb8",
   "metadata": {},
   "outputs": [],
   "source": []
  }
 ],
 "metadata": {
  "kernelspec": {
   "display_name": "Python 3 (ipykernel)",
   "language": "python",
   "name": "python3"
  },
  "language_info": {
   "codemirror_mode": {
    "name": "ipython",
    "version": 3
   },
   "file_extension": ".py",
   "mimetype": "text/x-python",
   "name": "python",
   "nbconvert_exporter": "python",
   "pygments_lexer": "ipython3",
   "version": "3.9.12"
  }
 },
 "nbformat": 4,
 "nbformat_minor": 5
}
